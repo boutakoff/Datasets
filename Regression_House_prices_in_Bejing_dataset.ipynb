{
  "nbformat": 4,
  "nbformat_minor": 0,
  "metadata": {
    "colab": {
      "name": "Regression - House prices in Bejing dataset.ipynb",
      "provenance": [],
      "collapsed_sections": []
    },
    "kernelspec": {
      "name": "python3",
      "display_name": "Python 3"
    },
    "language_info": {
      "name": "python"
    }
  },
  "cells": [
    {
      "cell_type": "code",
      "metadata": {
        "id": "p83T8IafKwlr"
      },
      "source": [
        "### Датасет загружен с Kaggle: https://www.kaggle.com/ruiqurm/lianjia?select=new.csv ###\n",
        "### Импорт библиотек ###\n",
        "import numpy as np\n",
        "import pandas as pd\n",
        "import matplotlib.pyplot as plt\n",
        "import matplotlib.style as style\n",
        "style.use('ggplot')\n",
        "import matplotlib.gridspec as gridspec\n",
        "import seaborn as sns\n",
        "sns.set_style(\"whitegrid\")\n",
        "from scipy.stats import norm\n",
        "from scipy import stats\n",
        "from plotnine import *\n",
        "import warnings\n",
        "warnings.filterwarnings(\"ignore\")\n",
        "from sklearn.feature_selection import SelectKBest,SelectPercentile,f_classif,f_regression,mutual_info_regression,mutual_info_classif,SelectFromModel,RFE\n",
        "from sklearn.preprocessing import StandardScaler\n",
        "from sklearn.model_selection import train_test_split\n",
        "from sklearn.linear_model import LinearRegression, SGDRegressor, Ridge, Lasso\n",
        "from sklearn import metrics\n",
        "from sklearn.metrics import mean_squared_error, mean_absolute_error, r2_score\n",
        "from sklearn.model_selection import cross_val_score\n",
        "from sklearn.neighbors import KNeighborsRegressor\n",
        "from sklearn.ensemble import RandomForestRegressor, BaggingRegressor, AdaBoostRegressor\n",
        "from sklearn import ensemble\n",
        "from lightgbm import LGBMRegressor\n",
        "from xgboost.sklearn import XGBRegressor"
      ],
      "execution_count": 1,
      "outputs": []
    },
    {
      "cell_type": "code",
      "metadata": {
        "id": "iBwDC_qWXDlB"
      },
      "source": [
        "# Датасет включает цены на дома в Пекине с 2011 по 2017 год, взят с сайта Lianjia.com и загружен на Kaggle"
      ],
      "execution_count": 47,
      "outputs": []
    },
    {
      "cell_type": "code",
      "metadata": {
        "id": "CXoRDrCtK4zD"
      },
      "source": [
        "# Считываем датасет и сохраняем в df\n",
        "df = pd.read_csv('new.csv.zip', parse_dates=[\"tradeTime\"], encoding = \"ISO-8859-1\")"
      ],
      "execution_count": 2,
      "outputs": []
    },
    {
      "cell_type": "code",
      "metadata": {
        "colab": {
          "base_uri": "https://localhost:8080/",
          "height": 545
        },
        "id": "rhgJXTw_HRVX",
        "outputId": "1d55c208-a199-49cc-8b47-0e03e5b2520e"
      },
      "source": [
        "df.head(10)"
      ],
      "execution_count": 3,
      "outputs": [
        {
          "output_type": "execute_result",
          "data": {
            "text/html": [
              "<div>\n",
              "<style scoped>\n",
              "    .dataframe tbody tr th:only-of-type {\n",
              "        vertical-align: middle;\n",
              "    }\n",
              "\n",
              "    .dataframe tbody tr th {\n",
              "        vertical-align: top;\n",
              "    }\n",
              "\n",
              "    .dataframe thead th {\n",
              "        text-align: right;\n",
              "    }\n",
              "</style>\n",
              "<table border=\"1\" class=\"dataframe\">\n",
              "  <thead>\n",
              "    <tr style=\"text-align: right;\">\n",
              "      <th></th>\n",
              "      <th>url</th>\n",
              "      <th>id</th>\n",
              "      <th>Lng</th>\n",
              "      <th>Lat</th>\n",
              "      <th>Cid</th>\n",
              "      <th>tradeTime</th>\n",
              "      <th>DOM</th>\n",
              "      <th>followers</th>\n",
              "      <th>totalPrice</th>\n",
              "      <th>price</th>\n",
              "      <th>square</th>\n",
              "      <th>livingRoom</th>\n",
              "      <th>drawingRoom</th>\n",
              "      <th>kitchen</th>\n",
              "      <th>bathRoom</th>\n",
              "      <th>floor</th>\n",
              "      <th>buildingType</th>\n",
              "      <th>constructionTime</th>\n",
              "      <th>renovationCondition</th>\n",
              "      <th>buildingStructure</th>\n",
              "      <th>ladderRatio</th>\n",
              "      <th>elevator</th>\n",
              "      <th>fiveYearsProperty</th>\n",
              "      <th>subway</th>\n",
              "      <th>district</th>\n",
              "      <th>communityAverage</th>\n",
              "    </tr>\n",
              "  </thead>\n",
              "  <tbody>\n",
              "    <tr>\n",
              "      <th>0</th>\n",
              "      <td>https://bj.lianjia.com/chengjiao/101084782030....</td>\n",
              "      <td>101084782030</td>\n",
              "      <td>116.475489</td>\n",
              "      <td>40.019520</td>\n",
              "      <td>1111027376244</td>\n",
              "      <td>2016-08-09</td>\n",
              "      <td>1464.0</td>\n",
              "      <td>106</td>\n",
              "      <td>415.0</td>\n",
              "      <td>31680</td>\n",
              "      <td>131.00</td>\n",
              "      <td>2</td>\n",
              "      <td>1</td>\n",
              "      <td>1</td>\n",
              "      <td>1</td>\n",
              "      <td>¸ß 26</td>\n",
              "      <td>1.0</td>\n",
              "      <td>2005</td>\n",
              "      <td>3</td>\n",
              "      <td>6</td>\n",
              "      <td>0.217</td>\n",
              "      <td>1.0</td>\n",
              "      <td>0.0</td>\n",
              "      <td>1.0</td>\n",
              "      <td>7</td>\n",
              "      <td>56021.0</td>\n",
              "    </tr>\n",
              "    <tr>\n",
              "      <th>1</th>\n",
              "      <td>https://bj.lianjia.com/chengjiao/101086012217....</td>\n",
              "      <td>101086012217</td>\n",
              "      <td>116.453917</td>\n",
              "      <td>39.881534</td>\n",
              "      <td>1111027381879</td>\n",
              "      <td>2016-07-28</td>\n",
              "      <td>903.0</td>\n",
              "      <td>126</td>\n",
              "      <td>575.0</td>\n",
              "      <td>43436</td>\n",
              "      <td>132.38</td>\n",
              "      <td>2</td>\n",
              "      <td>2</td>\n",
              "      <td>1</td>\n",
              "      <td>2</td>\n",
              "      <td>¸ß 22</td>\n",
              "      <td>1.0</td>\n",
              "      <td>2004</td>\n",
              "      <td>4</td>\n",
              "      <td>6</td>\n",
              "      <td>0.667</td>\n",
              "      <td>1.0</td>\n",
              "      <td>1.0</td>\n",
              "      <td>0.0</td>\n",
              "      <td>7</td>\n",
              "      <td>71539.0</td>\n",
              "    </tr>\n",
              "    <tr>\n",
              "      <th>2</th>\n",
              "      <td>https://bj.lianjia.com/chengjiao/101086041636....</td>\n",
              "      <td>101086041636</td>\n",
              "      <td>116.561978</td>\n",
              "      <td>39.877145</td>\n",
              "      <td>1111040862969</td>\n",
              "      <td>2016-12-11</td>\n",
              "      <td>1271.0</td>\n",
              "      <td>48</td>\n",
              "      <td>1030.0</td>\n",
              "      <td>52021</td>\n",
              "      <td>198.00</td>\n",
              "      <td>3</td>\n",
              "      <td>2</td>\n",
              "      <td>1</td>\n",
              "      <td>3</td>\n",
              "      <td>ÖÐ 4</td>\n",
              "      <td>4.0</td>\n",
              "      <td>2005</td>\n",
              "      <td>3</td>\n",
              "      <td>6</td>\n",
              "      <td>0.500</td>\n",
              "      <td>1.0</td>\n",
              "      <td>0.0</td>\n",
              "      <td>0.0</td>\n",
              "      <td>7</td>\n",
              "      <td>48160.0</td>\n",
              "    </tr>\n",
              "    <tr>\n",
              "      <th>3</th>\n",
              "      <td>https://bj.lianjia.com/chengjiao/101086406841....</td>\n",
              "      <td>101086406841</td>\n",
              "      <td>116.438010</td>\n",
              "      <td>40.076114</td>\n",
              "      <td>1111043185817</td>\n",
              "      <td>2016-09-30</td>\n",
              "      <td>965.0</td>\n",
              "      <td>138</td>\n",
              "      <td>297.5</td>\n",
              "      <td>22202</td>\n",
              "      <td>134.00</td>\n",
              "      <td>3</td>\n",
              "      <td>1</td>\n",
              "      <td>1</td>\n",
              "      <td>1</td>\n",
              "      <td>µ× 21</td>\n",
              "      <td>1.0</td>\n",
              "      <td>2008</td>\n",
              "      <td>1</td>\n",
              "      <td>6</td>\n",
              "      <td>0.273</td>\n",
              "      <td>1.0</td>\n",
              "      <td>0.0</td>\n",
              "      <td>0.0</td>\n",
              "      <td>6</td>\n",
              "      <td>51238.0</td>\n",
              "    </tr>\n",
              "    <tr>\n",
              "      <th>4</th>\n",
              "      <td>https://bj.lianjia.com/chengjiao/101086920653....</td>\n",
              "      <td>101086920653</td>\n",
              "      <td>116.428392</td>\n",
              "      <td>39.886229</td>\n",
              "      <td>1111027381174</td>\n",
              "      <td>2016-08-28</td>\n",
              "      <td>927.0</td>\n",
              "      <td>286</td>\n",
              "      <td>392.0</td>\n",
              "      <td>48396</td>\n",
              "      <td>81.00</td>\n",
              "      <td>2</td>\n",
              "      <td>1</td>\n",
              "      <td>1</td>\n",
              "      <td>1</td>\n",
              "      <td>ÖÐ 6</td>\n",
              "      <td>4.0</td>\n",
              "      <td>1960</td>\n",
              "      <td>2</td>\n",
              "      <td>2</td>\n",
              "      <td>0.333</td>\n",
              "      <td>0.0</td>\n",
              "      <td>1.0</td>\n",
              "      <td>1.0</td>\n",
              "      <td>1</td>\n",
              "      <td>62588.0</td>\n",
              "    </tr>\n",
              "    <tr>\n",
              "      <th>5</th>\n",
              "      <td>https://bj.lianjia.com/chengjiao/101087277815....</td>\n",
              "      <td>101087277815</td>\n",
              "      <td>116.466280</td>\n",
              "      <td>39.991363</td>\n",
              "      <td>1111027377512</td>\n",
              "      <td>2016-07-22</td>\n",
              "      <td>861.0</td>\n",
              "      <td>57</td>\n",
              "      <td>275.6</td>\n",
              "      <td>52000</td>\n",
              "      <td>53.00</td>\n",
              "      <td>1</td>\n",
              "      <td>0</td>\n",
              "      <td>1</td>\n",
              "      <td>1</td>\n",
              "      <td>ÖÐ 8</td>\n",
              "      <td>4.0</td>\n",
              "      <td>2005</td>\n",
              "      <td>3</td>\n",
              "      <td>6</td>\n",
              "      <td>0.333</td>\n",
              "      <td>1.0</td>\n",
              "      <td>1.0</td>\n",
              "      <td>0.0</td>\n",
              "      <td>7</td>\n",
              "      <td>67738.0</td>\n",
              "    </tr>\n",
              "    <tr>\n",
              "      <th>6</th>\n",
              "      <td>https://bj.lianjia.com/chengjiao/101087292623....</td>\n",
              "      <td>101087292623</td>\n",
              "      <td>116.482586</td>\n",
              "      <td>39.891991</td>\n",
              "      <td>1111027380683</td>\n",
              "      <td>2016-07-14</td>\n",
              "      <td>851.0</td>\n",
              "      <td>167</td>\n",
              "      <td>275.0</td>\n",
              "      <td>37672</td>\n",
              "      <td>73.00</td>\n",
              "      <td>2</td>\n",
              "      <td>1</td>\n",
              "      <td>1</td>\n",
              "      <td>1</td>\n",
              "      <td>¸ß 6</td>\n",
              "      <td>4.0</td>\n",
              "      <td>1997</td>\n",
              "      <td>4</td>\n",
              "      <td>2</td>\n",
              "      <td>0.500</td>\n",
              "      <td>0.0</td>\n",
              "      <td>0.0</td>\n",
              "      <td>0.0</td>\n",
              "      <td>7</td>\n",
              "      <td>50112.0</td>\n",
              "    </tr>\n",
              "    <tr>\n",
              "      <th>7</th>\n",
              "      <td>https://bj.lianjia.com/chengjiao/101087303800....</td>\n",
              "      <td>101087303800</td>\n",
              "      <td>116.453917</td>\n",
              "      <td>39.881534</td>\n",
              "      <td>1111027381879</td>\n",
              "      <td>2016-09-07</td>\n",
              "      <td>904.0</td>\n",
              "      <td>138</td>\n",
              "      <td>800.0</td>\n",
              "      <td>49521</td>\n",
              "      <td>161.55</td>\n",
              "      <td>3</td>\n",
              "      <td>2</td>\n",
              "      <td>1</td>\n",
              "      <td>2</td>\n",
              "      <td>¸ß 22</td>\n",
              "      <td>1.0</td>\n",
              "      <td>2004</td>\n",
              "      <td>4</td>\n",
              "      <td>6</td>\n",
              "      <td>0.667</td>\n",
              "      <td>1.0</td>\n",
              "      <td>1.0</td>\n",
              "      <td>0.0</td>\n",
              "      <td>7</td>\n",
              "      <td>71539.0</td>\n",
              "    </tr>\n",
              "    <tr>\n",
              "      <th>8</th>\n",
              "      <td>https://bj.lianjia.com/chengjiao/101087463212....</td>\n",
              "      <td>101087463212</td>\n",
              "      <td>116.555729</td>\n",
              "      <td>40.162058</td>\n",
              "      <td>1111027379605</td>\n",
              "      <td>2016-09-04</td>\n",
              "      <td>873.0</td>\n",
              "      <td>218</td>\n",
              "      <td>134.0</td>\n",
              "      <td>27917</td>\n",
              "      <td>48.00</td>\n",
              "      <td>1</td>\n",
              "      <td>0</td>\n",
              "      <td>1</td>\n",
              "      <td>1</td>\n",
              "      <td>¸ß 10</td>\n",
              "      <td>3.0</td>\n",
              "      <td>2009</td>\n",
              "      <td>1</td>\n",
              "      <td>2</td>\n",
              "      <td>0.333</td>\n",
              "      <td>0.0</td>\n",
              "      <td>0.0</td>\n",
              "      <td>0.0</td>\n",
              "      <td>13</td>\n",
              "      <td>44235.0</td>\n",
              "    </tr>\n",
              "    <tr>\n",
              "      <th>9</th>\n",
              "      <td>https://bj.lianjia.com/chengjiao/101087508625....</td>\n",
              "      <td>101087508625</td>\n",
              "      <td>116.453086</td>\n",
              "      <td>39.898397</td>\n",
              "      <td>1111027374519</td>\n",
              "      <td>2016-09-05</td>\n",
              "      <td>865.0</td>\n",
              "      <td>134</td>\n",
              "      <td>380.0</td>\n",
              "      <td>55883</td>\n",
              "      <td>68.00</td>\n",
              "      <td>1</td>\n",
              "      <td>0</td>\n",
              "      <td>0</td>\n",
              "      <td>0</td>\n",
              "      <td>ÖÐ 23</td>\n",
              "      <td>1.0</td>\n",
              "      <td>2009</td>\n",
              "      <td>4</td>\n",
              "      <td>6</td>\n",
              "      <td>0.308</td>\n",
              "      <td>1.0</td>\n",
              "      <td>1.0</td>\n",
              "      <td>1.0</td>\n",
              "      <td>1</td>\n",
              "      <td>78590.0</td>\n",
              "    </tr>\n",
              "  </tbody>\n",
              "</table>\n",
              "</div>"
            ],
            "text/plain": [
              "                                                 url  ... communityAverage\n",
              "0  https://bj.lianjia.com/chengjiao/101084782030....  ...          56021.0\n",
              "1  https://bj.lianjia.com/chengjiao/101086012217....  ...          71539.0\n",
              "2  https://bj.lianjia.com/chengjiao/101086041636....  ...          48160.0\n",
              "3  https://bj.lianjia.com/chengjiao/101086406841....  ...          51238.0\n",
              "4  https://bj.lianjia.com/chengjiao/101086920653....  ...          62588.0\n",
              "5  https://bj.lianjia.com/chengjiao/101087277815....  ...          67738.0\n",
              "6  https://bj.lianjia.com/chengjiao/101087292623....  ...          50112.0\n",
              "7  https://bj.lianjia.com/chengjiao/101087303800....  ...          71539.0\n",
              "8  https://bj.lianjia.com/chengjiao/101087463212....  ...          44235.0\n",
              "9  https://bj.lianjia.com/chengjiao/101087508625....  ...          78590.0\n",
              "\n",
              "[10 rows x 26 columns]"
            ]
          },
          "metadata": {},
          "execution_count": 3
        }
      ]
    },
    {
      "cell_type": "code",
      "metadata": {
        "colab": {
          "base_uri": "https://localhost:8080/"
        },
        "id": "7u-ybjkw7exI",
        "outputId": "86f2f6ef-d28c-4e53-9e2f-8a80ca4d7265"
      },
      "source": [
        "df.shape"
      ],
      "execution_count": 4,
      "outputs": [
        {
          "output_type": "execute_result",
          "data": {
            "text/plain": [
              "(318851, 26)"
            ]
          },
          "metadata": {},
          "execution_count": 4
        }
      ]
    },
    {
      "cell_type": "code",
      "metadata": {
        "colab": {
          "base_uri": "https://localhost:8080/",
          "height": 315
        },
        "id": "CMebtpu3vNzz",
        "outputId": "a0d3d306-31d7-4712-dbeb-59992d838473"
      },
      "source": [
        "df.describe()"
      ],
      "execution_count": 5,
      "outputs": [
        {
          "output_type": "execute_result",
          "data": {
            "text/html": [
              "<div>\n",
              "<style scoped>\n",
              "    .dataframe tbody tr th:only-of-type {\n",
              "        vertical-align: middle;\n",
              "    }\n",
              "\n",
              "    .dataframe tbody tr th {\n",
              "        vertical-align: top;\n",
              "    }\n",
              "\n",
              "    .dataframe thead th {\n",
              "        text-align: right;\n",
              "    }\n",
              "</style>\n",
              "<table border=\"1\" class=\"dataframe\">\n",
              "  <thead>\n",
              "    <tr style=\"text-align: right;\">\n",
              "      <th></th>\n",
              "      <th>Lng</th>\n",
              "      <th>Lat</th>\n",
              "      <th>Cid</th>\n",
              "      <th>DOM</th>\n",
              "      <th>followers</th>\n",
              "      <th>totalPrice</th>\n",
              "      <th>price</th>\n",
              "      <th>square</th>\n",
              "      <th>kitchen</th>\n",
              "      <th>buildingType</th>\n",
              "      <th>renovationCondition</th>\n",
              "      <th>buildingStructure</th>\n",
              "      <th>ladderRatio</th>\n",
              "      <th>elevator</th>\n",
              "      <th>fiveYearsProperty</th>\n",
              "      <th>subway</th>\n",
              "      <th>district</th>\n",
              "      <th>communityAverage</th>\n",
              "    </tr>\n",
              "  </thead>\n",
              "  <tbody>\n",
              "    <tr>\n",
              "      <th>count</th>\n",
              "      <td>318851.000000</td>\n",
              "      <td>318851.000000</td>\n",
              "      <td>3.188510e+05</td>\n",
              "      <td>160874.000000</td>\n",
              "      <td>318851.000000</td>\n",
              "      <td>318851.000000</td>\n",
              "      <td>318851.000000</td>\n",
              "      <td>318851.000000</td>\n",
              "      <td>318851.000000</td>\n",
              "      <td>316830.000000</td>\n",
              "      <td>318851.000000</td>\n",
              "      <td>318851.000000</td>\n",
              "      <td>3.188510e+05</td>\n",
              "      <td>318819.000000</td>\n",
              "      <td>318819.000000</td>\n",
              "      <td>318819.000000</td>\n",
              "      <td>318851.000000</td>\n",
              "      <td>318388.000000</td>\n",
              "    </tr>\n",
              "    <tr>\n",
              "      <th>mean</th>\n",
              "      <td>116.418459</td>\n",
              "      <td>39.949591</td>\n",
              "      <td>1.129113e+12</td>\n",
              "      <td>28.822339</td>\n",
              "      <td>16.731508</td>\n",
              "      <td>349.030201</td>\n",
              "      <td>43530.436379</td>\n",
              "      <td>83.240597</td>\n",
              "      <td>0.994599</td>\n",
              "      <td>3.009790</td>\n",
              "      <td>2.606330</td>\n",
              "      <td>4.451026</td>\n",
              "      <td>6.316486e+01</td>\n",
              "      <td>0.577055</td>\n",
              "      <td>0.645601</td>\n",
              "      <td>0.601112</td>\n",
              "      <td>6.763564</td>\n",
              "      <td>63682.446305</td>\n",
              "    </tr>\n",
              "    <tr>\n",
              "      <th>std</th>\n",
              "      <td>0.112054</td>\n",
              "      <td>0.091983</td>\n",
              "      <td>2.363447e+12</td>\n",
              "      <td>50.237343</td>\n",
              "      <td>34.209185</td>\n",
              "      <td>230.780778</td>\n",
              "      <td>21709.024204</td>\n",
              "      <td>37.234661</td>\n",
              "      <td>0.109609</td>\n",
              "      <td>1.269857</td>\n",
              "      <td>1.311739</td>\n",
              "      <td>1.901753</td>\n",
              "      <td>2.506851e+04</td>\n",
              "      <td>0.494028</td>\n",
              "      <td>0.478331</td>\n",
              "      <td>0.489670</td>\n",
              "      <td>2.812616</td>\n",
              "      <td>22329.215447</td>\n",
              "    </tr>\n",
              "    <tr>\n",
              "      <th>min</th>\n",
              "      <td>116.072514</td>\n",
              "      <td>39.627030</td>\n",
              "      <td>1.111027e+12</td>\n",
              "      <td>1.000000</td>\n",
              "      <td>0.000000</td>\n",
              "      <td>0.100000</td>\n",
              "      <td>1.000000</td>\n",
              "      <td>6.900000</td>\n",
              "      <td>0.000000</td>\n",
              "      <td>0.048000</td>\n",
              "      <td>0.000000</td>\n",
              "      <td>0.000000</td>\n",
              "      <td>0.000000e+00</td>\n",
              "      <td>0.000000</td>\n",
              "      <td>0.000000</td>\n",
              "      <td>0.000000</td>\n",
              "      <td>1.000000</td>\n",
              "      <td>10847.000000</td>\n",
              "    </tr>\n",
              "    <tr>\n",
              "      <th>25%</th>\n",
              "      <td>116.344985</td>\n",
              "      <td>39.893200</td>\n",
              "      <td>1.111027e+12</td>\n",
              "      <td>1.000000</td>\n",
              "      <td>0.000000</td>\n",
              "      <td>205.000000</td>\n",
              "      <td>28050.000000</td>\n",
              "      <td>57.900000</td>\n",
              "      <td>1.000000</td>\n",
              "      <td>1.000000</td>\n",
              "      <td>1.000000</td>\n",
              "      <td>2.000000</td>\n",
              "      <td>2.500000e-01</td>\n",
              "      <td>0.000000</td>\n",
              "      <td>0.000000</td>\n",
              "      <td>0.000000</td>\n",
              "      <td>6.000000</td>\n",
              "      <td>46339.000000</td>\n",
              "    </tr>\n",
              "    <tr>\n",
              "      <th>50%</th>\n",
              "      <td>116.416780</td>\n",
              "      <td>39.934527</td>\n",
              "      <td>1.111027e+12</td>\n",
              "      <td>6.000000</td>\n",
              "      <td>5.000000</td>\n",
              "      <td>294.000000</td>\n",
              "      <td>38737.000000</td>\n",
              "      <td>74.260000</td>\n",
              "      <td>1.000000</td>\n",
              "      <td>4.000000</td>\n",
              "      <td>3.000000</td>\n",
              "      <td>6.000000</td>\n",
              "      <td>3.330000e-01</td>\n",
              "      <td>1.000000</td>\n",
              "      <td>1.000000</td>\n",
              "      <td>1.000000</td>\n",
              "      <td>7.000000</td>\n",
              "      <td>59015.000000</td>\n",
              "    </tr>\n",
              "    <tr>\n",
              "      <th>75%</th>\n",
              "      <td>116.477581</td>\n",
              "      <td>40.003018</td>\n",
              "      <td>1.111027e+12</td>\n",
              "      <td>37.000000</td>\n",
              "      <td>18.000000</td>\n",
              "      <td>425.500000</td>\n",
              "      <td>53819.500000</td>\n",
              "      <td>98.710000</td>\n",
              "      <td>1.000000</td>\n",
              "      <td>4.000000</td>\n",
              "      <td>4.000000</td>\n",
              "      <td>6.000000</td>\n",
              "      <td>5.000000e-01</td>\n",
              "      <td>1.000000</td>\n",
              "      <td>1.000000</td>\n",
              "      <td>1.000000</td>\n",
              "      <td>8.000000</td>\n",
              "      <td>75950.000000</td>\n",
              "    </tr>\n",
              "    <tr>\n",
              "      <th>max</th>\n",
              "      <td>116.732378</td>\n",
              "      <td>40.252758</td>\n",
              "      <td>1.114620e+15</td>\n",
              "      <td>1677.000000</td>\n",
              "      <td>1143.000000</td>\n",
              "      <td>18130.000000</td>\n",
              "      <td>156250.000000</td>\n",
              "      <td>1745.500000</td>\n",
              "      <td>4.000000</td>\n",
              "      <td>4.000000</td>\n",
              "      <td>4.000000</td>\n",
              "      <td>6.000000</td>\n",
              "      <td>1.000940e+07</td>\n",
              "      <td>1.000000</td>\n",
              "      <td>1.000000</td>\n",
              "      <td>1.000000</td>\n",
              "      <td>13.000000</td>\n",
              "      <td>183109.000000</td>\n",
              "    </tr>\n",
              "  </tbody>\n",
              "</table>\n",
              "</div>"
            ],
            "text/plain": [
              "                 Lng            Lat  ...       district  communityAverage\n",
              "count  318851.000000  318851.000000  ...  318851.000000     318388.000000\n",
              "mean      116.418459      39.949591  ...       6.763564      63682.446305\n",
              "std         0.112054       0.091983  ...       2.812616      22329.215447\n",
              "min       116.072514      39.627030  ...       1.000000      10847.000000\n",
              "25%       116.344985      39.893200  ...       6.000000      46339.000000\n",
              "50%       116.416780      39.934527  ...       7.000000      59015.000000\n",
              "75%       116.477581      40.003018  ...       8.000000      75950.000000\n",
              "max       116.732378      40.252758  ...      13.000000     183109.000000\n",
              "\n",
              "[8 rows x 18 columns]"
            ]
          },
          "metadata": {},
          "execution_count": 5
        }
      ]
    },
    {
      "cell_type": "code",
      "metadata": {
        "id": "ZMh2zCjFC-8j"
      },
      "source": [
        "### Удаляем ненужные колонки ###\n",
        "df.drop(\"Cid\", axis = 1, inplace=True)\n",
        "df.drop(\"id\", axis = 1, inplace=True)\n",
        "df.drop(\"url\", axis = 1, inplace=True)\n",
        "df.drop(\"price\", axis = 1, inplace=True)"
      ],
      "execution_count": 6,
      "outputs": []
    },
    {
      "cell_type": "code",
      "metadata": {
        "colab": {
          "base_uri": "https://localhost:8080/"
        },
        "id": "g6vuSsO-vTRK",
        "outputId": "02d1f57d-4f5a-4c14-e325-6dbe155d65ba"
      },
      "source": [
        "df.info()"
      ],
      "execution_count": 7,
      "outputs": [
        {
          "output_type": "stream",
          "name": "stdout",
          "text": [
            "<class 'pandas.core.frame.DataFrame'>\n",
            "RangeIndex: 318851 entries, 0 to 318850\n",
            "Data columns (total 22 columns):\n",
            " #   Column               Non-Null Count   Dtype         \n",
            "---  ------               --------------   -----         \n",
            " 0   Lng                  318851 non-null  float64       \n",
            " 1   Lat                  318851 non-null  float64       \n",
            " 2   tradeTime            318851 non-null  datetime64[ns]\n",
            " 3   DOM                  160874 non-null  float64       \n",
            " 4   followers            318851 non-null  int64         \n",
            " 5   totalPrice           318851 non-null  float64       \n",
            " 6   square               318851 non-null  float64       \n",
            " 7   livingRoom           318851 non-null  object        \n",
            " 8   drawingRoom          318851 non-null  object        \n",
            " 9   kitchen              318851 non-null  int64         \n",
            " 10  bathRoom             318851 non-null  object        \n",
            " 11  floor                318851 non-null  object        \n",
            " 12  buildingType         316830 non-null  float64       \n",
            " 13  constructionTime     318851 non-null  object        \n",
            " 14  renovationCondition  318851 non-null  int64         \n",
            " 15  buildingStructure    318851 non-null  int64         \n",
            " 16  ladderRatio          318851 non-null  float64       \n",
            " 17  elevator             318819 non-null  float64       \n",
            " 18  fiveYearsProperty    318819 non-null  float64       \n",
            " 19  subway               318819 non-null  float64       \n",
            " 20  district             318851 non-null  int64         \n",
            " 21  communityAverage     318388 non-null  float64       \n",
            "dtypes: datetime64[ns](1), float64(11), int64(5), object(5)\n",
            "memory usage: 53.5+ MB\n"
          ]
        }
      ]
    },
    {
      "cell_type": "code",
      "metadata": {
        "colab": {
          "base_uri": "https://localhost:8080/"
        },
        "id": "v95TI2-NRBgE",
        "outputId": "6e07aee1-9a04-4251-a5a6-3f6241c5d0ea"
      },
      "source": [
        "df.floor.value_counts()"
      ],
      "execution_count": 8,
      "outputs": [
        {
          "output_type": "execute_result",
          "data": {
            "text/plain": [
              "ÖÐ 6       34788\n",
              "¶¥ 6       22763\n",
              "¸ß 6       20904\n",
              "µÍ 6       15737\n",
              "µ× 6       13338\n",
              "           ...  \n",
              "Î´Öª 29        2\n",
              "µÍ 2           1\n",
              "µÍ 35          1\n",
              "µÍ 5           1\n",
              "µÍ 63          1\n",
              "Name: floor, Length: 203, dtype: int64"
            ]
          },
          "metadata": {},
          "execution_count": 8
        }
      ]
    },
    {
      "cell_type": "code",
      "metadata": {
        "id": "eWhPwmUpRKJ3"
      },
      "source": [
        "# В колонке floor (11) есть иероглифы, мешающие переводу в числовые значения, надо их убрать"
      ],
      "execution_count": 9,
      "outputs": []
    },
    {
      "cell_type": "code",
      "metadata": {
        "id": "TDKhSaij2htH"
      },
      "source": [
        "# Убираем все нечисловые значения для колонки № 11 (floor) ### \n",
        "df.iloc[:, 11] = np.array(df.iloc[:, 11].str.extract(\"([0-9]+)\")).reshape(-1, 1)"
      ],
      "execution_count": 10,
      "outputs": []
    },
    {
      "cell_type": "code",
      "metadata": {
        "id": "-YAFopObCt5C"
      },
      "source": [
        "# Переводим значения из object в int или float64\n",
        "col = [7, 8, 10, 11, 13]\n",
        "for i in col:\n",
        "    df.iloc[:, i] = pd.to_numeric(df.iloc[:, i], errors='coerce')"
      ],
      "execution_count": 11,
      "outputs": []
    },
    {
      "cell_type": "code",
      "metadata": {
        "colab": {
          "base_uri": "https://localhost:8080/"
        },
        "id": "e2155sKqSCwR",
        "outputId": "c0c6fc6f-7c60-488d-dd2a-90b0768a684e"
      },
      "source": [
        "# Убеждаемся, что все object переведены в числовые значения\n",
        "df.info()"
      ],
      "execution_count": 19,
      "outputs": [
        {
          "output_type": "stream",
          "name": "stdout",
          "text": [
            "<class 'pandas.core.frame.DataFrame'>\n",
            "RangeIndex: 318851 entries, 0 to 318850\n",
            "Data columns (total 21 columns):\n",
            " #   Column               Non-Null Count   Dtype         \n",
            "---  ------               --------------   -----         \n",
            " 0   Lng                  318851 non-null  float64       \n",
            " 1   Lat                  318851 non-null  float64       \n",
            " 2   tradeTime            318851 non-null  datetime64[ns]\n",
            " 3   followers            318851 non-null  int64         \n",
            " 4   totalPrice           318851 non-null  float64       \n",
            " 5   square               318851 non-null  float64       \n",
            " 6   livingRoom           318819 non-null  float64       \n",
            " 7   drawingRoom          318819 non-null  float64       \n",
            " 8   kitchen              318851 non-null  int64         \n",
            " 9   bathRoom             318849 non-null  float64       \n",
            " 10  floor                318819 non-null  float64       \n",
            " 11  buildingType         316830 non-null  float64       \n",
            " 12  constructionTime     299568 non-null  float64       \n",
            " 13  renovationCondition  318851 non-null  int64         \n",
            " 14  buildingStructure    318851 non-null  int64         \n",
            " 15  ladderRatio          318851 non-null  float64       \n",
            " 16  elevator             318851 non-null  float64       \n",
            " 17  fiveYearsProperty    318851 non-null  float64       \n",
            " 18  subway               318851 non-null  float64       \n",
            " 19  district             318851 non-null  int64         \n",
            " 20  communityAverage     318388 non-null  float64       \n",
            "dtypes: datetime64[ns](1), float64(15), int64(5)\n",
            "memory usage: 51.1 MB\n"
          ]
        }
      ]
    },
    {
      "cell_type": "code",
      "metadata": {
        "colab": {
          "base_uri": "https://localhost:8080/"
        },
        "id": "ContHrHa6X0B",
        "outputId": "34a369f0-546e-4ca7-9616-54137a01f533"
      },
      "source": [
        "### Список колонок, содержащих NaN-значения ###\n",
        "df.columns[df.isna().any()].tolist()  "
      ],
      "execution_count": 12,
      "outputs": [
        {
          "output_type": "execute_result",
          "data": {
            "text/plain": [
              "['DOM',\n",
              " 'livingRoom',\n",
              " 'drawingRoom',\n",
              " 'bathRoom',\n",
              " 'floor',\n",
              " 'buildingType',\n",
              " 'constructionTime',\n",
              " 'elevator',\n",
              " 'fiveYearsProperty',\n",
              " 'subway',\n",
              " 'communityAverage']"
            ]
          },
          "metadata": {},
          "execution_count": 12
        }
      ]
    },
    {
      "cell_type": "code",
      "metadata": {
        "colab": {
          "base_uri": "https://localhost:8080/"
        },
        "id": "uDmzVA-ZH_zZ",
        "outputId": "7d4fc3e2-d5ce-43a5-af17-2ce4cc421561"
      },
      "source": [
        "# Процент NaN-значений\n",
        "df.isna().mean() * 100"
      ],
      "execution_count": 15,
      "outputs": [
        {
          "output_type": "execute_result",
          "data": {
            "text/plain": [
              "Lng                     0.000000\n",
              "Lat                     0.000000\n",
              "tradeTime               0.000000\n",
              "DOM                    49.545713\n",
              "followers               0.000000\n",
              "totalPrice              0.000000\n",
              "square                  0.000000\n",
              "livingRoom              0.010036\n",
              "drawingRoom             0.010036\n",
              "kitchen                 0.000000\n",
              "bathRoom                0.000627\n",
              "floor                   0.010036\n",
              "buildingType            0.633838\n",
              "constructionTime        6.047652\n",
              "renovationCondition     0.000000\n",
              "buildingStructure       0.000000\n",
              "ladderRatio             0.000000\n",
              "elevator                0.010036\n",
              "fiveYearsProperty       0.010036\n",
              "subway                  0.010036\n",
              "district                0.000000\n",
              "communityAverage        0.145209\n",
              "dtype: float64"
            ]
          },
          "metadata": {},
          "execution_count": 15
        }
      ]
    },
    {
      "cell_type": "code",
      "metadata": {
        "id": "FwlrhhkckGSE"
      },
      "source": [
        "# В колонке DOM очень много пропусков (около 50 %), поэтому удаляем её\n",
        "df.drop(['DOM'], axis = 1, inplace = True)"
      ],
      "execution_count": 16,
      "outputs": []
    },
    {
      "cell_type": "code",
      "metadata": {
        "id": "LsVA899KI9gT"
      },
      "source": [
        "# Заменяем пропущенные значения в колонках fiveYearsProperty, elevator и subway на 0\n",
        "df['fiveYearsProperty'].fillna(0, inplace=True)  # либо да (1), либо нет (0)\n",
        "df['elevator'].fillna(0, inplace=True)  # лифт либо есть (1), либо нет (0)\n",
        "df['subway'].fillna(0, inplace=True)  # метро либо есть (1), либо нет (0)"
      ],
      "execution_count": 17,
      "outputs": []
    },
    {
      "cell_type": "code",
      "metadata": {
        "colab": {
          "base_uri": "https://localhost:8080/"
        },
        "id": "41ZEtER1ofcP",
        "outputId": "b6c785ae-e9c4-4189-de91-c47f597b1a11"
      },
      "source": [
        "# Заменяем все NaN на медиану\n",
        "df = df.fillna(df.median())\n",
        "df.isna().sum()"
      ],
      "execution_count": 24,
      "outputs": [
        {
          "output_type": "execute_result",
          "data": {
            "text/plain": [
              "Lng                    0\n",
              "Lat                    0\n",
              "tradeTime              0\n",
              "followers              0\n",
              "totalPrice             0\n",
              "square                 0\n",
              "livingRoom             0\n",
              "drawingRoom            0\n",
              "kitchen                0\n",
              "bathRoom               0\n",
              "floor                  0\n",
              "buildingType           0\n",
              "constructionTime       0\n",
              "renovationCondition    0\n",
              "buildingStructure      0\n",
              "ladderRatio            0\n",
              "elevator               0\n",
              "fiveYearsProperty      0\n",
              "subway                 0\n",
              "district               0\n",
              "communityAverage       0\n",
              "dtype: int64"
            ]
          },
          "metadata": {},
          "execution_count": 24
        }
      ]
    },
    {
      "cell_type": "code",
      "metadata": {
        "colab": {
          "base_uri": "https://localhost:8080/"
        },
        "id": "XbO3DX53KeiD",
        "outputId": "0890477c-7db3-41ce-fc86-8642a5b8ce02"
      },
      "source": [
        "df.columns"
      ],
      "execution_count": 25,
      "outputs": [
        {
          "output_type": "execute_result",
          "data": {
            "text/plain": [
              "Index(['Lng', 'Lat', 'tradeTime', 'followers', 'totalPrice', 'square',\n",
              "       'livingRoom', 'drawingRoom', 'kitchen', 'bathRoom', 'floor',\n",
              "       'buildingType', 'constructionTime', 'renovationCondition',\n",
              "       'buildingStructure', 'ladderRatio', 'elevator', 'fiveYearsProperty',\n",
              "       'subway', 'district', 'communityAverage'],\n",
              "      dtype='object')"
            ]
          },
          "metadata": {},
          "execution_count": 25
        }
      ]
    },
    {
      "cell_type": "code",
      "metadata": {
        "id": "ubDIdPE8RVHS"
      },
      "source": [
        "# В X заносим все колонки, кроме целевой, а также убираем широту, долготу, время на рынке и среднюю цену по округу\n",
        "# В y как обычно заносим целевую переменную\n",
        "X = df.drop(['Lng', 'Lat', 'tradeTime', 'totalPrice', 'communityAverage'], axis=1)\n",
        "y = df['totalPrice']"
      ],
      "execution_count": 26,
      "outputs": []
    },
    {
      "cell_type": "code",
      "metadata": {
        "id": "1n2hHkfURYaZ"
      },
      "source": [
        "# Разделяем датасет на train и test с соотношением 80 / 20\n",
        "X_train, X_test, y_train, y_test = train_test_split(X, y, random_state=0, test_size=.2)"
      ],
      "execution_count": 27,
      "outputs": []
    },
    {
      "cell_type": "code",
      "metadata": {
        "colab": {
          "base_uri": "https://localhost:8080/"
        },
        "id": "EQsStX4EZDLp",
        "outputId": "e845da74-934c-4736-827e-7e13e385b286"
      },
      "source": [
        "# Проверяем размер получившихся тренировочной и тестовой выборок\n",
        "print(X_train.shape)\n",
        "print(y_train.shape)\n",
        "print(X_test.shape)\n",
        "print(y_test.shape)"
      ],
      "execution_count": 28,
      "outputs": [
        {
          "output_type": "stream",
          "name": "stdout",
          "text": [
            "(255080, 16)\n",
            "(255080,)\n",
            "(63771, 16)\n",
            "(63771,)\n"
          ]
        }
      ]
    },
    {
      "cell_type": "code",
      "metadata": {
        "colab": {
          "base_uri": "https://localhost:8080/",
          "height": 642
        },
        "id": "7lnDVFVrT4vA",
        "outputId": "ee6ed14e-6f3e-4ba5-bf76-8da76a1b3fe6"
      },
      "source": [
        "Kbest_classif = SelectKBest(score_func=f_classif, k=6)\n",
        "Kbest_classif.fit(X_train, y_train)\n",
        "\n",
        "# Смотрим на значимость наших признаков\n",
        "for i in range(len(Kbest_classif.scores_)):\n",
        "    print(f'Feature {i} : {round(Kbest_classif.scores_[i],3)}')\n",
        "\n",
        "print()\n",
        "\n",
        "plt.bar([X_train.columns[i] for i in range(len(Kbest_classif.scores_))], Kbest_classif.scores_)\n",
        "plt.xticks(rotation=90)\n",
        "plt.rcParams[\"figure.figsize\"] = (8,6)\n",
        "plt.show()"
      ],
      "execution_count": 36,
      "outputs": [
        {
          "output_type": "stream",
          "name": "stdout",
          "text": [
            "Feature 0 : 3.077\n",
            "Feature 1 : 26.871\n",
            "Feature 2 : 14.096\n",
            "Feature 3 : 7.877\n",
            "Feature 4 : 4.138\n",
            "Feature 5 : 7.388\n",
            "Feature 6 : 2.571\n",
            "Feature 7 : 1.358\n",
            "Feature 8 : 6.118\n",
            "Feature 9 : 6.828\n",
            "Feature 10 : 3.004\n",
            "Feature 11 : 1.218\n",
            "Feature 12 : 3.204\n",
            "Feature 13 : 1.797\n",
            "Feature 14 : 2.037\n",
            "Feature 15 : 1.247\n",
            "\n"
          ]
        },
        {
          "output_type": "display_data",
          "data": {
            "image/png": "[encoded data removed]",
            "text/plain": [
              "<Figure size 432x288 with 1 Axes>"
            ]
          },
          "metadata": {
            "needs_background": "light"
          }
        }
      ]
    },
    {
      "cell_type": "code",
      "metadata": {
        "colab": {
          "base_uri": "https://localhost:8080/",
          "height": 700
        },
        "id": "g4t_BYLcT4_e",
        "outputId": "f2817930-1072-40f4-b353-b1880db419c8"
      },
      "source": [
        "def corrmatrix(df,target_col,num=len(df)):\n",
        "    corrmatrix = df.corr()\n",
        "    plt.figure(figsize = (20,10))\n",
        "    columnss = corrmatrix.nlargest(num, target_col)[target_col].index\n",
        "    cm = np.corrcoef(df[columnss].values.T)\n",
        "    sns.set(font_scale = 1)\n",
        "    hm = sns.heatmap(cm, cbar = True, annot = True, square = True, cmap = \"RdPu\" ,  fmt = \".2f\", annot_kws = {\"size\": 10},\n",
        "                     yticklabels = columnss.values, xticklabels = columnss.values)\n",
        "    plt.show()\n",
        "\n",
        "# Строим матрицу корреляций признаков\n",
        "target = 'totalPrice'\n",
        "corrmatrix(df, target)"
      ],
      "execution_count": 37,
      "outputs": [
        {
          "output_type": "display_data",
          "data": {
            "image/png": "[encoded data removed]",
            "text/plain": [
              "<Figure size 1440x720 with 2 Axes>"
            ]
          },
          "metadata": {
            "needs_background": "light"
          }
        }
      ]
    },
    {
      "cell_type": "code",
      "metadata": {
        "id": "erB2l-C6UIfq"
      },
      "source": [
        "def remove_outlier(df, col_name):\n",
        "    q1 = df[col_name].quantile(0.25)\n",
        "    q3 = df[col_name].quantile(0.75)\n",
        "    iqr = q3-q1  #Interquartile range\n",
        "    outlier = []\n",
        "    for i in df[col_name]:\n",
        "        if i < (q1 - 1.5 * iqr) or i > (q3 + 1.5 * iqr):\n",
        "            outlier.append(i)\n",
        "    outlier = pd.DataFrame(outlier, columns=['outlier'])\n",
        "    print('There is {}% Outlier removed in {} according to IQR rule'.format(round((outlier.shape[0]/df.shape[0])*100,2),col_name))\n",
        "    fence_low  = q1-1.5*iqr\n",
        "    fence_high = q3+1.5*iqr\n",
        "    df = df[(df[col_name] > fence_low) & (df[col_name] < fence_high)]\n",
        "    return df\n",
        "    \n",
        "def visualize_target(df, feature):\n",
        "    print('Feature: {}, Skewness: {}, Kurtosis: {}'.format(feature,round(df[feature].skew(),5),round(df[feature].kurt(),5)))\n",
        "    \n",
        "    fig = plt.figure(constrained_layout=True, figsize=(12,6))\n",
        "    grid = gridspec.GridSpec(ncols=5, nrows=5, figure=fig)\n",
        "\n",
        "    ax1 = fig.add_subplot(grid[0:2, :4])\n",
        "    ax1.set_title('Histogram')\n",
        "    sns.distplot(df.loc[:,feature], norm_hist=True,fit=norm, ax = ax1,color='indianred')\n",
        "\n",
        "    ax2 = fig.add_subplot(grid[2:, :4])\n",
        "    ax2.set_title('QQ_plot')\n",
        "    stats.probplot(df.loc[:,feature], plot = ax2)\n",
        "\n",
        "    ax3 = fig.add_subplot(grid[:, 4])\n",
        "    ax3.set_title('Box Plot')\n",
        "    sns.boxplot(y=df.loc[:,feature], orient='v', ax = ax3,color='indianred')"
      ],
      "execution_count": 38,
      "outputs": []
    },
    {
      "cell_type": "code",
      "metadata": {
        "colab": {
          "base_uri": "https://localhost:8080/",
          "height": 427
        },
        "id": "HCAYcXpoUZ0w",
        "outputId": "e59e4cfc-f4bd-48a4-eefb-584f707cc0cd"
      },
      "source": [
        "visualize_target(df, target)"
      ],
      "execution_count": 39,
      "outputs": [
        {
          "output_type": "stream",
          "name": "stdout",
          "text": [
            "Feature: totalPrice, Skewness: 4.71937, Kurtosis: 148.66104\n"
          ]
        },
        {
          "output_type": "display_data",
          "data": {
            "image/png": "[encoded data removed]",
            "text/plain": [
              "<Figure size 864x432 with 3 Axes>"
            ]
          },
          "metadata": {}
        }
      ]
    },
    {
      "cell_type": "code",
      "metadata": {
        "colab": {
          "base_uri": "https://localhost:8080/"
        },
        "id": "DW5eqxovUZ6l",
        "outputId": "6fae7f66-d730-41d8-b3cf-00f84ea7704a"
      },
      "source": [
        "df = remove_outlier(df, target)  # Удаляем выбросы"
      ],
      "execution_count": 40,
      "outputs": [
        {
          "output_type": "stream",
          "name": "stdout",
          "text": [
            "There is 4.93% Outlier removed in totalPrice according to IQR rule\n"
          ]
        }
      ]
    },
    {
      "cell_type": "code",
      "metadata": {
        "id": "I-3BYCmmUs3y"
      },
      "source": [
        "# Логарифмирование целевой переменной\n",
        "df[\"totalPrice\"] = np.log(df[\"totalPrice\"])"
      ],
      "execution_count": 41,
      "outputs": []
    },
    {
      "cell_type": "code",
      "metadata": {
        "colab": {
          "base_uri": "https://localhost:8080/",
          "height": 427
        },
        "id": "NN5GVUlEUZ_T",
        "outputId": "9a7a90e4-b543-4712-ac68-5b7db39406de"
      },
      "source": [
        "visualize_target(df, target)"
      ],
      "execution_count": 42,
      "outputs": [
        {
          "output_type": "stream",
          "name": "stdout",
          "text": [
            "Feature: totalPrice, Skewness: -2.75983, Kurtosis: 33.88031\n"
          ]
        },
        {
          "output_type": "display_data",
          "data": {
            "image/png": "[encoded data removed]",
            "text/plain": [
              "<Figure size 864x432 with 3 Axes>"
            ]
          },
          "metadata": {}
        }
      ]
    },
    {
      "cell_type": "code",
      "metadata": {
        "id": "fdJFQ4cTUoJO"
      },
      "source": [
        ""
      ],
      "execution_count": null,
      "outputs": []
    },
    {
      "cell_type": "code",
      "metadata": {
        "colab": {
          "base_uri": "https://localhost:8080/"
        },
        "id": "pNChdvSORM0a",
        "outputId": "bf1017d2-4539-440c-f135-2c675a0151e4"
      },
      "source": [
        "# Масштабируем признаки при помощи StandardScaler\n",
        "\n",
        "from sklearn.preprocessing import StandardScaler\n",
        "scaler = StandardScaler()\n",
        "X_train_scaled = scaler.fit_transform(X_train)\n",
        "X_test_scaled = scaler.transform(X_test)\n",
        "\n",
        "model = Ridge()\n",
        "model.fit(X_train_scaled, y_train)\n",
        "y_pred = model.predict(X_test_scaled)\n",
        "y_train_pred = model.predict(X_train_scaled)\n",
        "\n",
        "print(\"Test RMSE = %.4f\" % mean_squared_error(y_test, y_pred, squared=False))\n",
        "print(\"Train RMSE = %.4f\" % mean_squared_error(y_train, y_train_pred, squared=False))"
      ],
      "execution_count": 29,
      "outputs": [
        {
          "output_type": "stream",
          "name": "stdout",
          "text": [
            "Test RMSE = 169.9064\n",
            "Train RMSE = 170.9510\n"
          ]
        }
      ]
    },
    {
      "cell_type": "code",
      "metadata": {
        "id": "uU21Zn9ETtYP"
      },
      "source": [
        "def show_weights(features, weights, scales):\n",
        "    fig, axs = plt.subplots(figsize=(14, 10), ncols=2)\n",
        "    sorted_weights = sorted(zip(weights, features, scales), reverse=True)\n",
        "    weights = [x[0] for x in sorted_weights]\n",
        "    features = [x[1] for x in sorted_weights]\n",
        "    scales = [x[2] for x in sorted_weights]\n",
        "    sns.barplot(y=features, x=weights, ax=axs[0])\n",
        "    axs[0].set_xlabel(\"Weight\")\n",
        "    sns.barplot(y=features, x=scales, ax=axs[1])\n",
        "    axs[1].set_xlabel(\"Scale\")\n",
        "    plt.tight_layout()"
      ],
      "execution_count": 33,
      "outputs": []
    },
    {
      "cell_type": "code",
      "metadata": {
        "colab": {
          "base_uri": "https://localhost:8080/",
          "height": 729
        },
        "id": "RPNTmB6_RM53",
        "outputId": "64134ccb-3d00-40c1-928c-6ddb4219b454"
      },
      "source": [
        "# Визуализируем отмастшабированные признаки\n",
        "scales = pd.Series(data=X_train_scaled.std(axis=0))\n",
        "show_weights(X_train, model.coef_, scales)"
      ],
      "execution_count": 34,
      "outputs": [
        {
          "output_type": "display_data",
          "data": {
            "image/png": "[encoded data removed]",
            "text/plain": [
              "<Figure size 1008x720 with 2 Axes>"
            ]
          },
          "metadata": {
            "needs_background": "light"
          }
        }
      ]
    },
    {
      "cell_type": "code",
      "metadata": {
        "colab": {
          "base_uri": "https://localhost:8080/",
          "height": 320
        },
        "id": "bxOEfdmTRNAH",
        "outputId": "719ebda0-2a48-4c44-d294-eb2590ff7ed2"
      },
      "source": [
        "# Подбираем гиперпараметр альфа\n",
        "\n",
        "from sklearn.model_selection import GridSearchCV\n",
        "\n",
        "alphas = np.logspace(-2, 3, 20)\n",
        "searcher = GridSearchCV(Ridge(), [{\"alpha\": alphas}], scoring=\"neg_root_mean_squared_error\", cv=10)\n",
        "searcher.fit(X_train_scaled, y_train)\n",
        "\n",
        "best_alpha = searcher.best_params_[\"alpha\"]\n",
        "print(\"Best alpha = %.4f\" % best_alpha)\n",
        "\n",
        "plt.plot(alphas, -searcher.cv_results_[\"mean_test_score\"])\n",
        "plt.xscale(\"log\")\n",
        "plt.xlabel(\"alpha\")\n",
        "plt.ylabel(\"CV score\")"
      ],
      "execution_count": 31,
      "outputs": [
        {
          "output_type": "stream",
          "name": "stdout",
          "text": [
            "Best alpha = 1000.0000\n"
          ]
        },
        {
          "output_type": "execute_result",
          "data": {
            "text/plain": [
              "Text(0, 0.5, 'CV score')"
            ]
          },
          "metadata": {},
          "execution_count": 31
        },
        {
          "output_type": "display_data",
          "data": {
            "image/png": "[encoded data removed]",
            "text/plain": [
              "<Figure size 432x288 with 1 Axes>"
            ]
          },
          "metadata": {
            "needs_background": "light"
          }
        }
      ]
    },
    {
      "cell_type": "code",
      "metadata": {
        "colab": {
          "base_uri": "https://localhost:8080/"
        },
        "id": "IzagTUuhRNEX",
        "outputId": "1c02f173-8162-43b1-88c1-1084cf0280cc"
      },
      "source": [
        "from sklearn.pipeline import Pipeline\n",
        "\n",
        "simple_pipeline = Pipeline([\n",
        "    ('scaling', StandardScaler()),\n",
        "    ('regression', Ridge(best_alpha))\n",
        "])\n",
        "\n",
        "model = simple_pipeline.fit(X_train, y_train)\n",
        "y_pred = model.predict(X_test)\n",
        "print(\"Test RMSE = %.4f\" % mean_squared_error(y_test, y_pred, squared=False))"
      ],
      "execution_count": 35,
      "outputs": [
        {
          "output_type": "stream",
          "name": "stdout",
          "text": [
            "Test RMSE = 169.6816\n"
          ]
        }
      ]
    },
    {
      "cell_type": "code",
      "metadata": {
        "id": "FgO3yWltMPhU",
        "colab": {
          "base_uri": "https://localhost:8080/"
        },
        "outputId": "eab0d41b-0627-4da5-ef0d-640245c023e5"
      },
      "source": [
        "# R2 Коэффициент детерминации — это доля дисперсии зависимой переменной, объясняемая рассматриваемой моделью зависимости, то есть объясняющими переменными\n",
        "# RMSE Корень из средней квадратической ошибки MSE (Root-mean-square deviation)\n",
        "\n",
        "r2 = []\n",
        "model = []\n",
        "RMSE = []\n",
        "regressor = [LinearRegression(), RandomForestRegressor(), KNeighborsRegressor(), ensemble.GradientBoostingRegressor(), LGBMRegressor(), XGBRegressor()]\n",
        "for obj in regressor:\n",
        "    model_name = type(obj).__name__\n",
        "    obj.fit(X_train, y_train)\n",
        "    predict=obj.predict(X_test)\n",
        "    r2.append(r2_score(y_test, predict))\n",
        "    model.append(model_name)\n",
        "    RMSE.append(mean_squared_error(y_test, predict, squared=False))\n",
        "models = pd.DataFrame({'Model': model, 'r2': r2, 'RMSE': RMSE})\n",
        "print(models)"
      ],
      "execution_count": 43,
      "outputs": [
        {
          "output_type": "stream",
          "name": "stdout",
          "text": [
            "[13:56:33] WARNING: /workspace/src/objective/regression_obj.cu:152: reg:linear is now deprecated in favor of reg:squarederror.\n",
            "                       Model        r2        RMSE\n",
            "0           LinearRegression  0.439791  169.906666\n",
            "1      RandomForestRegressor  0.734000  117.078249\n",
            "2        KNeighborsRegressor  0.546538  152.864243\n",
            "3  GradientBoostingRegressor  0.673892  129.633156\n",
            "4              LGBMRegressor  0.711904  121.843897\n",
            "5               XGBRegressor  0.672635  129.882620\n"
          ]
        }
      ]
    },
    {
      "cell_type": "code",
      "metadata": {
        "id": "IQhFrUfykdII"
      },
      "source": [
        "results_df = pd.DataFrame()\n",
        "columns = [\"Model\", \"Cross Val Score\", \"MAE\", \"MSE\", \"RMSE\", \"R2\"]\n",
        "\n",
        "def evaluate(true, predicted):\n",
        "    mae = metrics.mean_absolute_error(true, predicted)\n",
        "    mse = metrics.mean_squared_error(true, predicted)\n",
        "    rmse = np.sqrt(metrics.mean_squared_error(true, predicted))\n",
        "    r2_square = metrics.r2_score(true, predicted)\n",
        "    return mae, mse, rmse, r2_square\n",
        "\n",
        "def append_results(model_name, model, results_df, y_test, pred):\n",
        "    results_append_df = pd.DataFrame(data=[[model_name, *evaluate(y_test, pred) , cross_val_score(model, X, y, cv=10).mean()]], columns=columns)\n",
        "    results_df = results_df.append(results_append_df, ignore_index = True)\n",
        "    return results_df"
      ],
      "execution_count": 54,
      "outputs": []
    },
    {
      "cell_type": "code",
      "metadata": {
        "id": "pv82KExhkhPJ"
      },
      "source": [
        "results_df = pd.DataFrame()\n",
        "columns = [\"Model\", \"Cross Val Score\", \"MAE\", \"MSE\", \"RMSE\", \"R2\"]\n",
        "\n",
        "def evaluate(true, predicted):\n",
        "    mae = metrics.mean_absolute_error(true, predicted)\n",
        "    mse = metrics.mean_squared_error(true, predicted)\n",
        "    rmse = np.sqrt(metrics.mean_squared_error(true, predicted))\n",
        "    r2_square = metrics.r2_score(true, predicted)\n",
        "    return mae, mse, rmse, r2_square\n",
        "\n",
        "def append_results(model_name, model, results_df, y_test, pred):\n",
        "    results_append_df = pd.DataFrame(data=[[model_name, *evaluate(y_test, pred) , cross_val_score(model, X, y, cv=10).mean()]], columns=columns)\n",
        "    results_df = results_df.append(results_append_df, ignore_index = True)\n",
        "    return results_df"
      ],
      "execution_count": 57,
      "outputs": []
    },
    {
      "cell_type": "code",
      "metadata": {
        "colab": {
          "base_uri": "https://localhost:8080/",
          "height": 330
        },
        "id": "PVoTHdvskegN",
        "outputId": "01c756f7-fb6f-430d-ffd5-92ad5b808272"
      },
      "source": [
        "models = models.set_index('Model')\n",
        "plt.figure(figsize=(20,5))\n",
        "models['RMSE'].sort_values().plot(kind='barh', color='blue', align='center')\n",
        "plt.title('RMSE for models')"
      ],
      "execution_count": 65,
      "outputs": [
        {
          "output_type": "error",
          "ename": "KeyError",
          "evalue": "ignored",
          "traceback": [
            "\u001b[0;31m---------------------------------------------------------------------------\u001b[0m",
            "\u001b[0;31mKeyError\u001b[0m                                  Traceback (most recent call last)",
            "\u001b[0;32m<ipython-input-65-413e4b57517d>\u001b[0m in \u001b[0;36m<module>\u001b[0;34m()\u001b[0m\n\u001b[0;32m----> 1\u001b[0;31m \u001b[0mmodels\u001b[0m \u001b[0;34m=\u001b[0m \u001b[0mmodels\u001b[0m\u001b[0;34m.\u001b[0m\u001b[0mset_index\u001b[0m\u001b[0;34m(\u001b[0m\u001b[0;34m'Model'\u001b[0m\u001b[0;34m)\u001b[0m\u001b[0;34m\u001b[0m\u001b[0;34m\u001b[0m\u001b[0m\n\u001b[0m\u001b[1;32m      2\u001b[0m \u001b[0mplt\u001b[0m\u001b[0;34m.\u001b[0m\u001b[0mfigure\u001b[0m\u001b[0;34m(\u001b[0m\u001b[0mfigsize\u001b[0m\u001b[0;34m=\u001b[0m\u001b[0;34m(\u001b[0m\u001b[0;36m20\u001b[0m\u001b[0;34m,\u001b[0m\u001b[0;36m5\u001b[0m\u001b[0;34m)\u001b[0m\u001b[0;34m)\u001b[0m\u001b[0;34m\u001b[0m\u001b[0;34m\u001b[0m\u001b[0m\n\u001b[1;32m      3\u001b[0m \u001b[0mmodels\u001b[0m\u001b[0;34m[\u001b[0m\u001b[0;34m'RMSE'\u001b[0m\u001b[0;34m]\u001b[0m\u001b[0;34m.\u001b[0m\u001b[0msort_values\u001b[0m\u001b[0;34m(\u001b[0m\u001b[0;34m)\u001b[0m\u001b[0;34m.\u001b[0m\u001b[0mplot\u001b[0m\u001b[0;34m(\u001b[0m\u001b[0mkind\u001b[0m\u001b[0;34m=\u001b[0m\u001b[0;34m'barh'\u001b[0m\u001b[0;34m,\u001b[0m \u001b[0mcolor\u001b[0m\u001b[0;34m=\u001b[0m\u001b[0;34m'blue'\u001b[0m\u001b[0;34m,\u001b[0m \u001b[0malign\u001b[0m\u001b[0;34m=\u001b[0m\u001b[0;34m'center'\u001b[0m\u001b[0;34m)\u001b[0m\u001b[0;34m\u001b[0m\u001b[0;34m\u001b[0m\u001b[0m\n\u001b[1;32m      4\u001b[0m \u001b[0mplt\u001b[0m\u001b[0;34m.\u001b[0m\u001b[0mtitle\u001b[0m\u001b[0;34m(\u001b[0m\u001b[0;34m'RMSE for models'\u001b[0m\u001b[0;34m)\u001b[0m\u001b[0;34m\u001b[0m\u001b[0;34m\u001b[0m\u001b[0m\n",
            "\u001b[0;32m/usr/local/lib/python3.7/dist-packages/pandas/core/frame.py\u001b[0m in \u001b[0;36mset_index\u001b[0;34m(self, keys, drop, append, inplace, verify_integrity)\u001b[0m\n\u001b[1;32m   4553\u001b[0m \u001b[0;34m\u001b[0m\u001b[0m\n\u001b[1;32m   4554\u001b[0m         \u001b[0;32mif\u001b[0m \u001b[0mmissing\u001b[0m\u001b[0;34m:\u001b[0m\u001b[0;34m\u001b[0m\u001b[0;34m\u001b[0m\u001b[0m\n\u001b[0;32m-> 4555\u001b[0;31m             \u001b[0;32mraise\u001b[0m \u001b[0mKeyError\u001b[0m\u001b[0;34m(\u001b[0m\u001b[0;34mf\"None of {missing} are in the columns\"\u001b[0m\u001b[0;34m)\u001b[0m\u001b[0;34m\u001b[0m\u001b[0;34m\u001b[0m\u001b[0m\n\u001b[0m\u001b[1;32m   4556\u001b[0m \u001b[0;34m\u001b[0m\u001b[0m\n\u001b[1;32m   4557\u001b[0m         \u001b[0;32mif\u001b[0m \u001b[0minplace\u001b[0m\u001b[0;34m:\u001b[0m\u001b[0;34m\u001b[0m\u001b[0;34m\u001b[0m\u001b[0m\n",
            "\u001b[0;31mKeyError\u001b[0m: \"None of ['Model'] are in the columns\""
          ]
        }
      ]
    },
    {
      "cell_type": "code",
      "metadata": {
        "id": "3ph_nKhySg0S"
      },
      "source": [
        "# Лучшие результаты R2 и RMSE у RandomForestRegressor"
      ],
      "execution_count": 44,
      "outputs": []
    },
    {
      "cell_type": "code",
      "metadata": {
        "id": "dkVRxKsuSg5d",
        "colab": {
          "base_uri": "https://localhost:8080/"
        },
        "outputId": "d721f285-8b43-47f0-bcbb-50f7735bf368"
      },
      "source": [
        "from sklearn.ensemble import RandomForestRegressor\n",
        "from sklearn.datasets import make_regression\n",
        "RFReg = RandomForestRegressor(max_depth = 200, random_state = 0)\n",
        "RFReg.fit(X_train, y_train)"
      ],
      "execution_count": 45,
      "outputs": [
        {
          "output_type": "execute_result",
          "data": {
            "text/plain": [
              "RandomForestRegressor(bootstrap=True, ccp_alpha=0.0, criterion='mse',\n",
              "                      max_depth=200, max_features='auto', max_leaf_nodes=None,\n",
              "                      max_samples=None, min_impurity_decrease=0.0,\n",
              "                      min_impurity_split=None, min_samples_leaf=1,\n",
              "                      min_samples_split=2, min_weight_fraction_leaf=0.0,\n",
              "                      n_estimators=100, n_jobs=None, oob_score=False,\n",
              "                      random_state=0, verbose=0, warm_start=False)"
            ]
          },
          "metadata": {},
          "execution_count": 45
        }
      ]
    },
    {
      "cell_type": "code",
      "metadata": {
        "id": "kTxNbDxvMPnN",
        "colab": {
          "base_uri": "https://localhost:8080/"
        },
        "outputId": "9287b7aa-31b6-483a-9a5b-17db0b8c7c15"
      },
      "source": [
        "RFReg.predict(X_test)\n",
        "RFReg.score(X_test, y_test)"
      ],
      "execution_count": 46,
      "outputs": [
        {
          "output_type": "execute_result",
          "data": {
            "text/plain": [
              "0.7333129533513127"
            ]
          },
          "metadata": {},
          "execution_count": 46
        }
      ]
    },
    {
      "cell_type": "code",
      "metadata": {
        "id": "Xse9Ut1hK5Bj",
        "colab": {
          "base_uri": "https://localhost:8080/"
        },
        "outputId": "713c0c44-0f0d-4752-d978-bd78369fd70b"
      },
      "source": [
        "# Подбор лучших гиперпараметров для RandomForestRegressor\n",
        "# Закомментил, так как исполнение занимает 30+ минут\n",
        "\n",
        "#%time\n",
        "#params = {'n_estimators': [100, 200], 'max_depth': [None, 1], 'min_samples_split': [5, 10]}\n",
        "#clf = GridSearchCV(ensemble.RandomForestRegressor(), params, cv=5, \n",
        "#                   n_jobs=-1, verbose=1)\n",
        "#clf.fit(X_train, y_train)\n",
        "#print(clf.best_estimator_)"
      ],
      "execution_count": 48,
      "outputs": [
        {
          "output_type": "stream",
          "name": "stdout",
          "text": [
            "CPU times: user 4 µs, sys: 0 ns, total: 4 µs\n",
            "Wall time: 7.39 µs\n",
            "Fitting 5 folds for each of 8 candidates, totalling 40 fits\n"
          ]
        },
        {
          "output_type": "stream",
          "name": "stderr",
          "text": [
            "[Parallel(n_jobs=-1)]: Using backend LokyBackend with 2 concurrent workers.\n",
            "[Parallel(n_jobs=-1)]: Done  40 out of  40 | elapsed: 43.6min finished\n"
          ]
        },
        {
          "output_type": "stream",
          "name": "stdout",
          "text": [
            "RandomForestRegressor(bootstrap=True, ccp_alpha=0.0, criterion='mse',\n",
            "                      max_depth=None, max_features='auto', max_leaf_nodes=None,\n",
            "                      max_samples=None, min_impurity_decrease=0.0,\n",
            "                      min_impurity_split=None, min_samples_leaf=1,\n",
            "                      min_samples_split=10, min_weight_fraction_leaf=0.0,\n",
            "                      n_estimators=200, n_jobs=None, oob_score=False,\n",
            "                      random_state=None, verbose=0, warm_start=False)\n"
          ]
        }
      ]
    },
    {
      "cell_type": "code",
      "metadata": {
        "id": "lDz3pDhMLL-i"
      },
      "source": [
        "# Результат подбора параметров:\n",
        "# RandomForestRegressor(bootstrap=True, ccp_alpha=0.0, criterion='mse',\n",
        "#                       max_depth=None, max_features='auto', max_leaf_nodes=None,\n",
        "#                       max_samples=None, min_impurity_decrease=0.0,\n",
        "#                       min_impurity_split=None, min_samples_leaf=1,\n",
        "#                       min_samples_split=10, min_weight_fraction_leaf=0.0,\n",
        "#                       n_estimators=200, n_jobs=None, oob_score=False,\n",
        "#                       random_state=None, verbose=0, warm_start=False)"
      ],
      "execution_count": 49,
      "outputs": []
    },
    {
      "cell_type": "code",
      "metadata": {
        "id": "-WRouVruS61R",
        "colab": {
          "base_uri": "https://localhost:8080/"
        },
        "outputId": "6449da3b-8f62-4b90-c680-2af663ffbfb4"
      },
      "source": [
        "RFRegOptimized = RandomForestRegressor(bootstrap=True, ccp_alpha=0.0, criterion='mse',\n",
        "                      max_depth=None, max_features='auto', max_leaf_nodes=None,\n",
        "                      max_samples=None, min_impurity_decrease=0.0,\n",
        "                      min_impurity_split=None, min_samples_leaf=1,\n",
        "                      min_samples_split=10, min_weight_fraction_leaf=0.0,\n",
        "                      n_estimators=200, n_jobs=None, oob_score=False,\n",
        "                      random_state=None, verbose=0, warm_start=False)\n",
        "RFRegOptimized.fit(X_train, y_train)"
      ],
      "execution_count": 50,
      "outputs": [
        {
          "output_type": "execute_result",
          "data": {
            "text/plain": [
              "RandomForestRegressor(bootstrap=True, ccp_alpha=0.0, criterion='mse',\n",
              "                      max_depth=None, max_features='auto', max_leaf_nodes=None,\n",
              "                      max_samples=None, min_impurity_decrease=0.0,\n",
              "                      min_impurity_split=None, min_samples_leaf=1,\n",
              "                      min_samples_split=10, min_weight_fraction_leaf=0.0,\n",
              "                      n_estimators=200, n_jobs=None, oob_score=False,\n",
              "                      random_state=None, verbose=0, warm_start=False)"
            ]
          },
          "metadata": {},
          "execution_count": 50
        }
      ]
    },
    {
      "cell_type": "code",
      "metadata": {
        "colab": {
          "base_uri": "https://localhost:8080/"
        },
        "id": "lUGz1-q7i4gb",
        "outputId": "a1948def-fad8-42bf-c858-eea4054d934a"
      },
      "source": [
        "RFRegOptimized.predict(X_test)\n",
        "RFRegOptimized.score(X_test, y_test)"
      ],
      "execution_count": 51,
      "outputs": [
        {
          "output_type": "execute_result",
          "data": {
            "text/plain": [
              "0.7381120660256888"
            ]
          },
          "metadata": {},
          "execution_count": 51
        }
      ]
    },
    {
      "cell_type": "code",
      "metadata": {
        "id": "FUx1ladzi4mg"
      },
      "source": [
        ""
      ],
      "execution_count": null,
      "outputs": []
    },
    {
      "cell_type": "code",
      "metadata": {
        "id": "CGi92cgPirKY",
        "colab": {
          "base_uri": "https://localhost:8080/",
          "height": 80
        },
        "outputId": "44496c6c-d618-4156-883d-800a46d455f0"
      },
      "source": [
        "lin_reg = LinearRegression(normalize=True)\n",
        "lin_reg.fit(X_train_scaled, y_train)\n",
        "\n",
        "pred = lin_reg.predict(X_test_scaled)\n",
        "\n",
        "results_df = append_results(\"Linear Regression\",  LinearRegression(), results_df, y_test, pred)\n",
        "results_df"
      ],
      "execution_count": 59,
      "outputs": [
        {
          "output_type": "execute_result",
          "data": {
            "text/html": [
              "<div>\n",
              "<style scoped>\n",
              "    .dataframe tbody tr th:only-of-type {\n",
              "        vertical-align: middle;\n",
              "    }\n",
              "\n",
              "    .dataframe tbody tr th {\n",
              "        vertical-align: top;\n",
              "    }\n",
              "\n",
              "    .dataframe thead th {\n",
              "        text-align: right;\n",
              "    }\n",
              "</style>\n",
              "<table border=\"1\" class=\"dataframe\">\n",
              "  <thead>\n",
              "    <tr style=\"text-align: right;\">\n",
              "      <th></th>\n",
              "      <th>Model</th>\n",
              "      <th>Cross Val Score</th>\n",
              "      <th>MAE</th>\n",
              "      <th>MSE</th>\n",
              "      <th>RMSE</th>\n",
              "      <th>R2</th>\n",
              "    </tr>\n",
              "  </thead>\n",
              "  <tbody>\n",
              "    <tr>\n",
              "      <th>0</th>\n",
              "      <td>Linear Regression</td>\n",
              "      <td>116.061567</td>\n",
              "      <td>28868.275209</td>\n",
              "      <td>169.906666</td>\n",
              "      <td>0.439791</td>\n",
              "      <td>0.123806</td>\n",
              "    </tr>\n",
              "  </tbody>\n",
              "</table>\n",
              "</div>"
            ],
            "text/plain": [
              "               Model  Cross Val Score  ...      RMSE        R2\n",
              "0  Linear Regression       116.061567  ...  0.439791  0.123806\n",
              "\n",
              "[1 rows x 6 columns]"
            ]
          },
          "metadata": {},
          "execution_count": 59
        }
      ]
    },
    {
      "cell_type": "code",
      "metadata": {
        "id": "lzqXK7XNfFGs",
        "colab": {
          "base_uri": "https://localhost:8080/",
          "height": 110
        },
        "outputId": "f0202d15-f387-4dda-f0fd-2b3a2cc376c3"
      },
      "source": [
        "from sklearn.linear_model import Ridge\n",
        "\n",
        "model = Ridge(alpha = 1000)\n",
        "model.fit(X_train_scaled, y_train)\n",
        "pred = model.predict(X_test_scaled)\n",
        "results_df = append_results(\"Ridge Regression\",  Ridge(), results_df, y_test, pred)\n",
        "results_df"
      ],
      "execution_count": 60,
      "outputs": [
        {
          "output_type": "execute_result",
          "data": {
            "text/html": [
              "<div>\n",
              "<style scoped>\n",
              "    .dataframe tbody tr th:only-of-type {\n",
              "        vertical-align: middle;\n",
              "    }\n",
              "\n",
              "    .dataframe tbody tr th {\n",
              "        vertical-align: top;\n",
              "    }\n",
              "\n",
              "    .dataframe thead th {\n",
              "        text-align: right;\n",
              "    }\n",
              "</style>\n",
              "<table border=\"1\" class=\"dataframe\">\n",
              "  <thead>\n",
              "    <tr style=\"text-align: right;\">\n",
              "      <th></th>\n",
              "      <th>Model</th>\n",
              "      <th>Cross Val Score</th>\n",
              "      <th>MAE</th>\n",
              "      <th>MSE</th>\n",
              "      <th>RMSE</th>\n",
              "      <th>R2</th>\n",
              "    </tr>\n",
              "  </thead>\n",
              "  <tbody>\n",
              "    <tr>\n",
              "      <th>0</th>\n",
              "      <td>Linear Regression</td>\n",
              "      <td>116.061567</td>\n",
              "      <td>28868.275209</td>\n",
              "      <td>169.906666</td>\n",
              "      <td>0.439791</td>\n",
              "      <td>0.123806</td>\n",
              "    </tr>\n",
              "    <tr>\n",
              "      <th>1</th>\n",
              "      <td>Ridge Regression</td>\n",
              "      <td>116.019862</td>\n",
              "      <td>28791.848165</td>\n",
              "      <td>169.681608</td>\n",
              "      <td>0.441274</td>\n",
              "      <td>0.123807</td>\n",
              "    </tr>\n",
              "  </tbody>\n",
              "</table>\n",
              "</div>"
            ],
            "text/plain": [
              "               Model  Cross Val Score  ...      RMSE        R2\n",
              "0  Linear Regression       116.061567  ...  0.439791  0.123806\n",
              "1   Ridge Regression       116.019862  ...  0.441274  0.123807\n",
              "\n",
              "[2 rows x 6 columns]"
            ]
          },
          "metadata": {},
          "execution_count": 60
        }
      ]
    },
    {
      "cell_type": "code",
      "metadata": {
        "id": "TLpQI6p9DUCY",
        "colab": {
          "base_uri": "https://localhost:8080/",
          "height": 142
        },
        "outputId": "16f1c2be-d26b-45b8-f6eb-3ca75697383a"
      },
      "source": [
        "from sklearn.linear_model import Lasso\n",
        "\n",
        "model = Lasso()\n",
        "model.fit(X_train, y_train)\n",
        "pred = model.predict(X_test)\n",
        "results_df = append_results(\"Lasso Regression\",  Lasso(), results_df, y_test, pred)\n",
        "results_df"
      ],
      "execution_count": 61,
      "outputs": [
        {
          "output_type": "execute_result",
          "data": {
            "text/html": [
              "<div>\n",
              "<style scoped>\n",
              "    .dataframe tbody tr th:only-of-type {\n",
              "        vertical-align: middle;\n",
              "    }\n",
              "\n",
              "    .dataframe tbody tr th {\n",
              "        vertical-align: top;\n",
              "    }\n",
              "\n",
              "    .dataframe thead th {\n",
              "        text-align: right;\n",
              "    }\n",
              "</style>\n",
              "<table border=\"1\" class=\"dataframe\">\n",
              "  <thead>\n",
              "    <tr style=\"text-align: right;\">\n",
              "      <th></th>\n",
              "      <th>Model</th>\n",
              "      <th>Cross Val Score</th>\n",
              "      <th>MAE</th>\n",
              "      <th>MSE</th>\n",
              "      <th>RMSE</th>\n",
              "      <th>R2</th>\n",
              "    </tr>\n",
              "  </thead>\n",
              "  <tbody>\n",
              "    <tr>\n",
              "      <th>0</th>\n",
              "      <td>Linear Regression</td>\n",
              "      <td>116.061567</td>\n",
              "      <td>28868.275209</td>\n",
              "      <td>169.906666</td>\n",
              "      <td>0.439791</td>\n",
              "      <td>0.123806</td>\n",
              "    </tr>\n",
              "    <tr>\n",
              "      <th>1</th>\n",
              "      <td>Ridge Regression</td>\n",
              "      <td>116.019862</td>\n",
              "      <td>28791.848165</td>\n",
              "      <td>169.681608</td>\n",
              "      <td>0.441274</td>\n",
              "      <td>0.123807</td>\n",
              "    </tr>\n",
              "    <tr>\n",
              "      <th>2</th>\n",
              "      <td>Lasso Regression</td>\n",
              "      <td>116.077244</td>\n",
              "      <td>28943.578685</td>\n",
              "      <td>170.128124</td>\n",
              "      <td>0.438329</td>\n",
              "      <td>0.124567</td>\n",
              "    </tr>\n",
              "  </tbody>\n",
              "</table>\n",
              "</div>"
            ],
            "text/plain": [
              "               Model  Cross Val Score  ...      RMSE        R2\n",
              "0  Linear Regression       116.061567  ...  0.439791  0.123806\n",
              "1   Ridge Regression       116.019862  ...  0.441274  0.123807\n",
              "2   Lasso Regression       116.077244  ...  0.438329  0.124567\n",
              "\n",
              "[3 rows x 6 columns]"
            ]
          },
          "metadata": {},
          "execution_count": 61
        }
      ]
    },
    {
      "cell_type": "code",
      "metadata": {
        "id": "V5peVIKmPw6S",
        "colab": {
          "base_uri": "https://localhost:8080/",
          "height": 172
        },
        "outputId": "bfb9fcca-be1d-4534-e173-c52fa12c63ec"
      },
      "source": [
        "from sklearn.linear_model import ElasticNet\n",
        "\n",
        "model = ElasticNet()\n",
        "model.fit(X_train, y_train)\n",
        "pred = model.predict(X_test)\n",
        "results_df = append_results(\"ElasticNet Regression\",  ElasticNet(), results_df, y_test, pred)\n",
        "results_df"
      ],
      "execution_count": 62,
      "outputs": [
        {
          "output_type": "execute_result",
          "data": {
            "text/html": [
              "<div>\n",
              "<style scoped>\n",
              "    .dataframe tbody tr th:only-of-type {\n",
              "        vertical-align: middle;\n",
              "    }\n",
              "\n",
              "    .dataframe tbody tr th {\n",
              "        vertical-align: top;\n",
              "    }\n",
              "\n",
              "    .dataframe thead th {\n",
              "        text-align: right;\n",
              "    }\n",
              "</style>\n",
              "<table border=\"1\" class=\"dataframe\">\n",
              "  <thead>\n",
              "    <tr style=\"text-align: right;\">\n",
              "      <th></th>\n",
              "      <th>Model</th>\n",
              "      <th>Cross Val Score</th>\n",
              "      <th>MAE</th>\n",
              "      <th>MSE</th>\n",
              "      <th>RMSE</th>\n",
              "      <th>R2</th>\n",
              "    </tr>\n",
              "  </thead>\n",
              "  <tbody>\n",
              "    <tr>\n",
              "      <th>0</th>\n",
              "      <td>Linear Regression</td>\n",
              "      <td>116.061567</td>\n",
              "      <td>28868.275209</td>\n",
              "      <td>169.906666</td>\n",
              "      <td>0.439791</td>\n",
              "      <td>0.123806</td>\n",
              "    </tr>\n",
              "    <tr>\n",
              "      <th>1</th>\n",
              "      <td>Ridge Regression</td>\n",
              "      <td>116.019862</td>\n",
              "      <td>28791.848165</td>\n",
              "      <td>169.681608</td>\n",
              "      <td>0.441274</td>\n",
              "      <td>0.123807</td>\n",
              "    </tr>\n",
              "    <tr>\n",
              "      <th>2</th>\n",
              "      <td>Lasso Regression</td>\n",
              "      <td>116.077244</td>\n",
              "      <td>28943.578685</td>\n",
              "      <td>170.128124</td>\n",
              "      <td>0.438329</td>\n",
              "      <td>0.124567</td>\n",
              "    </tr>\n",
              "    <tr>\n",
              "      <th>3</th>\n",
              "      <td>ElasticNet Regression</td>\n",
              "      <td>117.134464</td>\n",
              "      <td>29715.272049</td>\n",
              "      <td>172.381182</td>\n",
              "      <td>0.423354</td>\n",
              "      <td>0.111063</td>\n",
              "    </tr>\n",
              "  </tbody>\n",
              "</table>\n",
              "</div>"
            ],
            "text/plain": [
              "                   Model  Cross Val Score  ...      RMSE        R2\n",
              "0      Linear Regression       116.061567  ...  0.439791  0.123806\n",
              "1       Ridge Regression       116.019862  ...  0.441274  0.123807\n",
              "2       Lasso Regression       116.077244  ...  0.438329  0.124567\n",
              "3  ElasticNet Regression       117.134464  ...  0.423354  0.111063\n",
              "\n",
              "[4 rows x 6 columns]"
            ]
          },
          "metadata": {},
          "execution_count": 62
        }
      ]
    },
    {
      "cell_type": "code",
      "metadata": {
        "id": "fU7-Pgg2PxFx",
        "colab": {
          "base_uri": "https://localhost:8080/",
          "height": 203
        },
        "outputId": "effe6dde-98a4-4d23-afea-242ac4f4e842"
      },
      "source": [
        "model = RFRegOptimized\n",
        "model.fit(X_train, y_train)\n",
        "pred = model.predict(X_test)\n",
        "results_df = append_results(\"RandomForestRegressor\",  model, results_df, y_test, pred)\n",
        "results_df"
      ],
      "execution_count": 64,
      "outputs": [
        {
          "output_type": "execute_result",
          "data": {
            "text/html": [
              "<div>\n",
              "<style scoped>\n",
              "    .dataframe tbody tr th:only-of-type {\n",
              "        vertical-align: middle;\n",
              "    }\n",
              "\n",
              "    .dataframe tbody tr th {\n",
              "        vertical-align: top;\n",
              "    }\n",
              "\n",
              "    .dataframe thead th {\n",
              "        text-align: right;\n",
              "    }\n",
              "</style>\n",
              "<table border=\"1\" class=\"dataframe\">\n",
              "  <thead>\n",
              "    <tr style=\"text-align: right;\">\n",
              "      <th></th>\n",
              "      <th>Model</th>\n",
              "      <th>Cross Val Score</th>\n",
              "      <th>MAE</th>\n",
              "      <th>MSE</th>\n",
              "      <th>RMSE</th>\n",
              "      <th>R2</th>\n",
              "    </tr>\n",
              "  </thead>\n",
              "  <tbody>\n",
              "    <tr>\n",
              "      <th>0</th>\n",
              "      <td>Linear Regression</td>\n",
              "      <td>116.061567</td>\n",
              "      <td>28868.275209</td>\n",
              "      <td>169.906666</td>\n",
              "      <td>0.439791</td>\n",
              "      <td>0.123806</td>\n",
              "    </tr>\n",
              "    <tr>\n",
              "      <th>1</th>\n",
              "      <td>Ridge Regression</td>\n",
              "      <td>116.019862</td>\n",
              "      <td>28791.848165</td>\n",
              "      <td>169.681608</td>\n",
              "      <td>0.441274</td>\n",
              "      <td>0.123807</td>\n",
              "    </tr>\n",
              "    <tr>\n",
              "      <th>2</th>\n",
              "      <td>Lasso Regression</td>\n",
              "      <td>116.077244</td>\n",
              "      <td>28943.578685</td>\n",
              "      <td>170.128124</td>\n",
              "      <td>0.438329</td>\n",
              "      <td>0.124567</td>\n",
              "    </tr>\n",
              "    <tr>\n",
              "      <th>3</th>\n",
              "      <td>ElasticNet Regression</td>\n",
              "      <td>117.134464</td>\n",
              "      <td>29715.272049</td>\n",
              "      <td>172.381182</td>\n",
              "      <td>0.423354</td>\n",
              "      <td>0.111063</td>\n",
              "    </tr>\n",
              "    <tr>\n",
              "      <th>4</th>\n",
              "      <td>RandomForestRegressor</td>\n",
              "      <td>75.847014</td>\n",
              "      <td>13504.624347</td>\n",
              "      <td>116.209399</td>\n",
              "      <td>0.737933</td>\n",
              "      <td>0.188914</td>\n",
              "    </tr>\n",
              "  </tbody>\n",
              "</table>\n",
              "</div>"
            ],
            "text/plain": [
              "                   Model  Cross Val Score  ...      RMSE        R2\n",
              "0      Linear Regression       116.061567  ...  0.439791  0.123806\n",
              "1       Ridge Regression       116.019862  ...  0.441274  0.123807\n",
              "2       Lasso Regression       116.077244  ...  0.438329  0.124567\n",
              "3  ElasticNet Regression       117.134464  ...  0.423354  0.111063\n",
              "4  RandomForestRegressor        75.847014  ...  0.737933  0.188914\n",
              "\n",
              "[5 rows x 6 columns]"
            ]
          },
          "metadata": {},
          "execution_count": 64
        }
      ]
    },
    {
      "cell_type": "code",
      "metadata": {
        "id": "MvBl1l3lRWoq"
      },
      "source": [
        ""
      ],
      "execution_count": null,
      "outputs": []
    }
  ]
}